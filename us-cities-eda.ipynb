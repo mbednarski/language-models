{
 "cells": [
  {
   "cell_type": "code",
   "execution_count": 4,
   "metadata": {
    "slideshow": {
     "slide_type": "slide"
    }
   },
   "outputs": [],
   "source": [
    "import pandas as pd\n",
    "import numpy as np\n",
    "import seaborn as sns\n",
    "from itertools import chain\n",
    "from typing import Iterable\n",
    "from collections import Counter\n",
    "\n",
    "import matplotlib.pyplot as plt\n",
    "import torch\n",
    "\n",
    "pd.set_option(\"max_colwidth\", 800)"
   ]
  },
  {
   "cell_type": "code",
   "execution_count": 5,
   "metadata": {
    "slideshow": {
     "slide_type": "slide"
    }
   },
   "outputs": [
    {
     "data": {
      "text/html": [
       "<div>\n",
       "<style scoped>\n",
       "    .dataframe tbody tr th:only-of-type {\n",
       "        vertical-align: middle;\n",
       "    }\n",
       "\n",
       "    .dataframe tbody tr th {\n",
       "        vertical-align: top;\n",
       "    }\n",
       "\n",
       "    .dataframe thead th {\n",
       "        text-align: right;\n",
       "    }\n",
       "</style>\n",
       "<table border=\"1\" class=\"dataframe\">\n",
       "  <thead>\n",
       "    <tr style=\"text-align: right;\">\n",
       "      <th></th>\n",
       "      <th>state_id</th>\n",
       "      <th>state_name</th>\n",
       "      <th>city</th>\n",
       "    </tr>\n",
       "  </thead>\n",
       "  <tbody>\n",
       "    <tr>\n",
       "      <th>16645</th>\n",
       "      <td>21</td>\n",
       "      <td>Maryland</td>\n",
       "      <td>Adamstown</td>\n",
       "    </tr>\n",
       "    <tr>\n",
       "      <th>10288</th>\n",
       "      <td>16</td>\n",
       "      <td>Iowa</td>\n",
       "      <td>Nashua</td>\n",
       "    </tr>\n",
       "    <tr>\n",
       "      <th>40332</th>\n",
       "      <td>45</td>\n",
       "      <td>Texas</td>\n",
       "      <td>Fruitvale</td>\n",
       "    </tr>\n",
       "    <tr>\n",
       "      <th>26079</th>\n",
       "      <td>31</td>\n",
       "      <td>New Jersey</td>\n",
       "      <td>Seaside Park</td>\n",
       "    </tr>\n",
       "    <tr>\n",
       "      <th>31553</th>\n",
       "      <td>36</td>\n",
       "      <td>New York</td>\n",
       "      <td>Greene village</td>\n",
       "    </tr>\n",
       "    <tr>\n",
       "      <th>721</th>\n",
       "      <td>2</td>\n",
       "      <td>Alaska</td>\n",
       "      <td>Clear</td>\n",
       "    </tr>\n",
       "    <tr>\n",
       "      <th>18017</th>\n",
       "      <td>22</td>\n",
       "      <td>Louisiana</td>\n",
       "      <td>Benton</td>\n",
       "    </tr>\n",
       "    <tr>\n",
       "      <th>27503</th>\n",
       "      <td>33</td>\n",
       "      <td>New York</td>\n",
       "      <td>East Nassau</td>\n",
       "    </tr>\n",
       "    <tr>\n",
       "      <th>32876</th>\n",
       "      <td>37</td>\n",
       "      <td>North Carolina</td>\n",
       "      <td>Norlina</td>\n",
       "    </tr>\n",
       "    <tr>\n",
       "      <th>28552</th>\n",
       "      <td>33</td>\n",
       "      <td>New York</td>\n",
       "      <td>Verplanck</td>\n",
       "    </tr>\n",
       "  </tbody>\n",
       "</table>\n",
       "</div>"
      ],
      "text/plain": [
       "       state_id      state_name            city\n",
       "16645        21        Maryland       Adamstown\n",
       "10288        16            Iowa          Nashua\n",
       "40332        45           Texas       Fruitvale\n",
       "26079        31      New Jersey    Seaside Park\n",
       "31553        36        New York  Greene village\n",
       "721           2          Alaska           Clear\n",
       "18017        22       Louisiana          Benton\n",
       "27503        33        New York     East Nassau\n",
       "32876        37  North Carolina         Norlina\n",
       "28552        33        New York       Verplanck"
      ]
     },
     "execution_count": 5,
     "metadata": {},
     "output_type": "execute_result"
    }
   ],
   "source": [
    "df = pd.read_csv('data/raw/us-city-place-names.csv', encoding='latin1')\n",
    "df.sample(10)"
   ]
  },
  {
   "cell_type": "code",
   "execution_count": 6,
   "metadata": {
    "slideshow": {
     "slide_type": "slide"
    }
   },
   "outputs": [
    {
     "data": {
      "text/plain": [
       "<matplotlib.axes._subplots.AxesSubplot at 0x7f7040ddee80>"
      ]
     },
     "execution_count": 6,
     "metadata": {},
     "output_type": "execute_result"
    },
    {
     "data": {
      "image/png": "[encoded data removed]",
      "text/plain": [
       "<Figure size 432x288 with 1 Axes>"
      ]
     },
     "metadata": {
      "needs_background": "light"
     },
     "output_type": "display_data"
    }
   ],
   "source": [
    "cities = df['city']\n",
    "lens = [len(s) for s in cities]\n",
    "sns.distplot(lens, rug=True)"
   ]
  },
  {
   "cell_type": "code",
   "execution_count": 7,
   "metadata": {
    "slideshow": {
     "slide_type": "slide"
    }
   },
   "outputs": [
    {
     "data": {
      "text/plain": [
       "20048                            Chevy Chase Section Three village\n",
       "30225                           Los Ranchos de Albuquerque village\n",
       "7293                         Echols County consolidated government\n",
       "16237                  Greeley County unified government (balance)\n",
       "7327                  Georgetown-Quitman County unified government\n",
       "7254               Cusseta-Chattahoochee County unified government\n",
       "7151             Athens-Clarke County unified government (balance)\n",
       "42659         Nashville-Davidson metropolitan government (balance)\n",
       "17293       Louisville/Jefferson County metro government (balance)\n",
       "7155     Augusta-Richmond County consolidated government (balance)\n",
       "Name: city, dtype: object"
      ]
     },
     "execution_count": 7,
     "metadata": {},
     "output_type": "execute_result"
    }
   ],
   "source": [
    "sorted_by_len = np.argsort(lens)\n",
    "cities.iloc[sorted_by_len[-10:]]"
   ]
  },
  {
   "cell_type": "code",
   "execution_count": 8,
   "metadata": {
    "slideshow": {
     "slide_type": "fragment"
    }
   },
   "outputs": [
    {
     "data": {
      "text/plain": [
       "47737    Roy\n",
       "8958     Amo\n",
       "39469    Eva\n",
       "46081    Ona\n",
       "31946    Ada\n",
       "34392    Gap\n",
       "46078    Odd\n",
       "31813    Rye\n",
       "35150    Rew\n",
       "1495     Keo\n",
       "Name: city, dtype: object"
      ]
     },
     "execution_count": 8,
     "metadata": {},
     "output_type": "execute_result"
    }
   ],
   "source": [
    "cities.iloc[sorted_by_len[:10]]"
   ]
  },
  {
   "cell_type": "code",
   "execution_count": 9,
   "metadata": {
    "scrolled": true,
    "slideshow": {
     "slide_type": "slide"
    }
   },
   "outputs": [
    {
     "data": {
      "text/plain": [
       "[('e', 44711),\n",
       " ('l', 38098),\n",
       " ('a', 37395),\n",
       " ('o', 32723),\n",
       " ('n', 30398),\n",
       " ('r', 29028),\n",
       " ('i', 28973),\n",
       " ('t', 21453),\n",
       " (' ', 17062),\n",
       " ('s', 16508),\n",
       " ('g', 11884),\n",
       " ('d', 11497),\n",
       " ('u', 10397),\n",
       " ('v', 10020),\n",
       " ('h', 9460),\n",
       " ('y', 7036),\n",
       " ('c', 6862),\n",
       " ('C', 6556),\n",
       " ('m', 6364),\n",
       " ('k', 5974),\n",
       " ('b', 5639),\n",
       " ('S', 5490),\n",
       " ('w', 5203),\n",
       " ('B', 4852),\n",
       " ('M', 4824),\n",
       " ('p', 3938),\n",
       " ('H', 3814),\n",
       " ('P', 3806),\n",
       " ('L', 3706),\n",
       " ('W', 3488),\n",
       " ('R', 2909),\n",
       " ('G', 2857),\n",
       " ('f', 2817),\n",
       " ('A', 2542),\n",
       " ('F', 2386),\n",
       " ('D', 2062),\n",
       " ('E', 1972),\n",
       " ('N', 1951),\n",
       " ('T', 1692),\n",
       " ('O', 1419),\n",
       " ('V', 1235),\n",
       " ('K', 1086),\n",
       " ('J', 838),\n",
       " ('x', 759),\n",
       " ('I', 705),\n",
       " ('z', 477),\n",
       " ('U', 353),\n",
       " ('Y', 234),\n",
       " ('q', 214),\n",
       " ('.', 165),\n",
       " ('Q', 123),\n",
       " ('Z', 92),\n",
       " ('-', 84),\n",
       " ('j', 67),\n",
       " (\"'\", 28),\n",
       " ('(', 15),\n",
       " (')', 15),\n",
       " ('X', 6),\n",
       " ('ñ', 3),\n",
       " ('/', 3)]"
      ]
     },
     "execution_count": 9,
     "metadata": {},
     "output_type": "execute_result"
    }
   ],
   "source": [
    "char_freq = Counter(chain(*cities))\n",
    "sorted(char_freq.items(), key=lambda x: -x[1])"
   ]
  },
  {
   "cell_type": "code",
   "execution_count": 10,
   "metadata": {
    "slideshow": {
     "slide_type": "slide"
    }
   },
   "outputs": [
    {
     "data": {
      "text/plain": [
       "<BarContainer object of 60 artists>"
      ]
     },
     "execution_count": 10,
     "metadata": {},
     "output_type": "execute_result"
    },
    {
     "data": {
      "image/png": "[encoded data removed]",
      "text/plain": [
       "<Figure size 432x288 with 1 Axes>"
      ]
     },
     "metadata": {
      "needs_background": "light"
     },
     "output_type": "display_data"
    }
   ],
   "source": [
    "fig, ax = plt.subplots()\n",
    "ax.bar(x=np.arange(len(char_freq)), height=sorted(char_freq.values(), reverse=True))"
   ]
  },
  {
   "cell_type": "code",
   "execution_count": 11,
   "metadata": {
    "slideshow": {
     "slide_type": "slide"
    }
   },
   "outputs": [
    {
     "data": {
      "text/plain": [
       "20"
      ]
     },
     "execution_count": 11,
     "metadata": {},
     "output_type": "execute_result"
    }
   ],
   "source": [
    "idx_to_drop = cities.str.contains(r'ñ|\\/|\\(|\\)')\n",
    "idx_to_drop.sum()"
   ]
  },
  {
   "cell_type": "code",
   "execution_count": 12,
   "metadata": {
    "slideshow": {
     "slide_type": "fragment"
    }
   },
   "outputs": [
    {
     "data": {
      "text/plain": [
       "3299                                             Fredonia (Biscoe)\n",
       "4160                               El Paso de Robles (Paso Robles)\n",
       "4235                                          La Cañada Flintridge\n",
       "4398                                    San Buenaventura (Ventura)\n",
       "4874                                                    Cañon City\n",
       "5051                                           Raymer (New Raymer)\n",
       "5130                                             Milford (balance)\n",
       "7151             Athens-Clarke County unified government (balance)\n",
       "7155     Augusta-Richmond County consolidated government (balance)\n",
       "13788                                       Indianapolis (balance)\n",
       "16237                  Greeley County unified government (balance)\n",
       "17293       Louisville/Jefferson County metro government (balance)\n",
       "25497                                   Butte-Silver Bow (balance)\n",
       "30199                                                     Española\n",
       "40771                                       Naval Air Station/ Jrb\n",
       "42575                                  Hartsville/Trousdale County\n",
       "42659         Nashville-Davidson metropolitan government (balance)\n",
       "47809                                    Addison (Webster Springs)\n",
       "47820                                      Bath (Berkeley Springs)\n",
       "48039                                         Womelsdorf (Coalton)\n",
       "Name: city, dtype: object"
      ]
     },
     "execution_count": 12,
     "metadata": {},
     "output_type": "execute_result"
    }
   ],
   "source": [
    "cities[idx_to_drop]"
   ]
  },
  {
   "cell_type": "code",
   "execution_count": 18,
   "metadata": {
    "slideshow": {
     "slide_type": "slide"
    }
   },
   "outputs": [
    {
     "data": {
      "text/plain": [
       "0         Abbeville\n",
       "1          Abernant\n",
       "2        Adamsville\n",
       "3           Addison\n",
       "4             Adger\n",
       "            ...    \n",
       "48736     Wamsutter\n",
       "48737     Wheatland\n",
       "48738       Worland\n",
       "48739        Wright\n",
       "48740         Yoder\n",
       "Name: city, Length: 48721, dtype: object"
      ]
     },
     "execution_count": 18,
     "metadata": {},
     "output_type": "execute_result"
    }
   ],
   "source": [
    "cleaned_cities = cities[~idx_to_drop]\n",
    "cleaned_cities"
   ]
  },
  {
   "cell_type": "code",
   "execution_count": 21,
   "metadata": {
    "slideshow": {
     "slide_type": "fragment"
    }
   },
   "outputs": [],
   "source": [
    "with open('data/interim/cleaned.txt', 'wt') as f:\n",
    "    f.write('\\n'.join(cleaned_cities))"
   ]
  },
  {
   "cell_type": "code",
   "execution_count": 14,
   "metadata": {
    "slideshow": {
     "slide_type": "slide"
    }
   },
   "outputs": [],
   "source": [
    "class CharacterTokenizer:\n",
    "    SOS_TOKEN = '<s>'\n",
    "    EOS_TOKEN = '<s/>'\n",
    "    PAD_TOKEN = '<pad>'\n",
    "        \n",
    "    def fit(self, X:Iterable[str]):\n",
    "        self.idx2tok = [self.PAD_TOKEN, self.SOS_TOKEN, self.EOS_TOKEN]        \n",
    "        characters = sorted(set(chain(*X)))\n",
    "        self.idx2tok += characters        \n",
    "        self.tok2idx = {t: i for i, t in enumerate(self.idx2tok)}\n",
    "        \n",
    "    def __len__(self):\n",
    "        return len(self.idx2tok)\n",
    "\n",
    "    def get_vocab_size(self):\n",
    "        return len(self.tok2idx)\n",
    "\n",
    "    def encode(self, s: str, add_special_tokens=False) -> torch.LongTensor:\n",
    "        if add_special_tokens:\n",
    "            s = [self.SOS_TOKEN] + list(s) + [self.EOS_TOKEN]\n",
    "        values = [self.tok2idx[c] for c in s]\n",
    "        return torch.LongTensor(values)\n",
    "\n",
    "    def decode(self, t: torch.LongTensor) -> str:\n",
    "        decoded = [self.idx2tok[i] for i in t]\n",
    "        return ''.join(decoded)\n",
    "    \n",
    "tokenizer = CharacterTokenizer()\n",
    "tokenizer.fit(cleaned_cities)"
   ]
  },
  {
   "cell_type": "code",
   "execution_count": 15,
   "metadata": {
    "slideshow": {
     "slide_type": "slide"
    }
   },
   "outputs": [
    {
     "data": {
      "text/plain": [
       "tensor([ 1, 20, 37, 55,  3, 31, 47, 50, 43,  2])"
      ]
     },
     "execution_count": 15,
     "metadata": {},
     "output_type": "execute_result"
    }
   ],
   "source": [
    "encoded = tokenizer.encode('New York', add_special_tokens=True)\n",
    "encoded"
   ]
  },
  {
   "cell_type": "code",
   "execution_count": 16,
   "metadata": {
    "slideshow": {
     "slide_type": "fragment"
    }
   },
   "outputs": [
    {
     "data": {
      "text/plain": [
       "'<s>New York<s/>'"
      ]
     },
     "execution_count": 16,
     "metadata": {},
     "output_type": "execute_result"
    }
   ],
   "source": [
    "decoded = tokenizer.decode(encoded)\n",
    "decoded"
   ]
  },
  {
   "cell_type": "code",
   "execution_count": 17,
   "metadata": {
    "slideshow": {
     "slide_type": "slide"
    }
   },
   "outputs": [],
   "source": []
  },
  {
   "cell_type": "code",
   "execution_count": 25,
   "metadata": {},
   "outputs": [],
   "source": [
    "import torch\n",
    "from torch.utils.data import Dataset\n",
    "from pathlib import Path\n",
    "\n",
    "class WordDataset(Dataset):\n",
    "    def __init__(self, tokenizer, dset_path: Path = None):\n",
    "        self.tokenizer = tokenizer\n",
    "        dset_path = dset_path\n",
    "\n",
    "        lines = []\n",
    "        with dset_path.open('rt') as f:\n",
    "            lines = [l.strip() for l in f.readlines()]\n",
    "        self.lines = [l for l in lines if len(l) > 0]\n",
    "\n",
    "    def __len__(self):\n",
    "        return len(self.lines)\n",
    "\n",
    "    def __getitem__(self, idx):\n",
    "        x = self.lines[idx]\n",
    "        y = self.lines[idx]\n",
    "\n",
    "        x = self.tokenizer.encode(x, include_special_tokens=True)[:-1]\n",
    "        y = self.tokenizer.encode(y, include_special_tokens=True)[1:]\n",
    "\n",
    "        return x, y\n"
   ]
  },
  {
   "cell_type": "code",
   "execution_count": 26,
   "metadata": {},
   "outputs": [],
   "source": [
    "import torch\n",
    "import torch.nn as nn\n",
    "import torch.optim as optim\n",
    "import pytorch_lightning as pl\n",
    "import torch.nn.utils.rnn as ru\n",
    "from language_models.dataset.word import WordDataset\n",
    "from torch.utils.data import random_split, DataLoader\n",
    "\n",
    "from pytorch_lightning.callbacks import EarlyStopping, ModelCheckpoint\n",
    "\n",
    "from argparse import Namespace\n",
    "from language_models.tokenizer import FixedTokenizer\n",
    "from pathlib import Path"
   ]
  },
  {
   "cell_type": "code",
   "execution_count": null,
   "metadata": {},
   "outputs": [],
   "source": []
  }
 ],
 "metadata": {
  "celltoolbar": "Slideshow",
  "kernelspec": {
   "display_name": "Python 3",
   "language": "python",
   "name": "python3"
  },
  "language_info": {
   "codemirror_mode": {
    "name": "ipython",
    "version": 3
   },
   "file_extension": ".py",
   "mimetype": "text/x-python",
   "name": "python",
   "nbconvert_exporter": "python",
   "pygments_lexer": "ipython3",
   "version": "3.8.2"
  }
 },
 "nbformat": 4,
 "nbformat_minor": 4
}
